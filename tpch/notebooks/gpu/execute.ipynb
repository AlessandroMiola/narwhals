{
 "cells": [
  {
   "cell_type": "code",
   "execution_count": 1,
   "id": "a685eadb",
   "metadata": {
    "execution": {
     "iopub.execute_input": "2024-03-22T15:42:52.465149Z",
     "iopub.status.busy": "2024-03-22T15:42:52.464439Z",
     "iopub.status.idle": "2024-03-22T15:42:52.468882Z",
     "shell.execute_reply": "2024-03-22T15:42:52.468152Z"
    },
    "papermill": {
     "duration": 0.010927,
     "end_time": "2024-03-22T15:42:52.470776",
     "exception": false,
     "start_time": "2024-03-22T15:42:52.459849",
     "status": "completed"
    },
    "tags": []
   },
   "outputs": [],
   "source": [
    "!pip install -U narwhals>=0.6.9"
   ]
  },
  {
   "cell_type": "code",
   "execution_count": 2,
   "id": "0701fda4",
   "metadata": {
    "execution": {
     "iopub.execute_input": "2024-03-22T15:42:52.478064Z",
     "iopub.status.busy": "2024-03-22T15:42:52.477798Z",
     "iopub.status.idle": "2024-03-22T15:47:23.376918Z",
     "shell.execute_reply": "2024-03-22T15:47:23.375689Z"
    },
    "papermill": {
     "duration": 270.905369,
     "end_time": "2024-03-22T15:47:23.379435",
     "exception": false,
     "start_time": "2024-03-22T15:42:52.474066",
     "status": "completed"
    },
    "tags": []
   },
   "outputs": [
    {
     "name": "stdout",
     "output_type": "stream",
     "text": [
      "\u001b[33mWARNING: Skipping cudf as it is not installed.\u001b[0m\u001b[33m\r\n",
      "\u001b[0m\u001b[33mWARNING: Skipping cuml as it is not installed.\u001b[0m\u001b[33m\r\n",
      "\u001b[0m\u001b[33mWARNING: Skipping dask-cudf as it is not installed.\u001b[0m\u001b[33m\r\n",
      "\u001b[0m\u001b[33mWARNING: Skipping cugraph as it is not installed.\u001b[0m\u001b[33m\r\n",
      "\u001b[0mFound existing installation: cupy 13.0.0\r\n",
      "Uninstalling cupy-13.0.0:\r\n",
      "  Successfully uninstalled cupy-13.0.0\r\n",
      "\u001b[33mWARNING: Skipping cupy-cuda12x as it is not installed.\u001b[0m\u001b[33m\r\n",
      "\u001b[0mLooking in indexes: https://pypi.org/simple, https://pypi.nvidia.com\r\n",
      "Collecting cudf-cu12==24.2.*\r\n",
      "  Downloading https://pypi.nvidia.com/cudf-cu12/cudf_cu12-24.2.2-cp310-cp310-manylinux_2_28_x86_64.whl (464.7 MB)\r\n",
      "\u001b[2K     \u001b[90m━━━━━━━━━━━━━━━━━━━━━━━━━━━━━━━━━━━━━━━\u001b[0m \u001b[32m464.7/464.7 MB\u001b[0m \u001b[31m3.5 MB/s\u001b[0m eta \u001b[36m0:00:00\u001b[0m\r\n",
      "\u001b[?25hCollecting dask-cudf-cu12==24.2.*\r\n",
      "  Downloading https://pypi.nvidia.com/dask-cudf-cu12/dask_cudf_cu12-24.2.2-py3-none-any.whl (45 kB)\r\n",
      "\u001b[2K     \u001b[90m━━━━━━━━━━━━━━━━━━━━━━━━━━━━━━━━━━━━━━━━\u001b[0m \u001b[32m45.1/45.1 kB\u001b[0m \u001b[31m2.7 MB/s\u001b[0m eta \u001b[36m0:00:00\u001b[0m\r\n",
      "\u001b[?25hCollecting cuml-cu12==24.2.*\r\n",
      "  Downloading https://pypi.nvidia.com/cuml-cu12/cuml_cu12-24.2.0-cp310-cp310-manylinux_2_17_x86_64.manylinux2014_x86_64.whl (1074.6 MB)\r\n",
      "\u001b[2K     \u001b[90m━━━━━━━━━━━━━━━━━━━━━━━━━━━━━━━━━━━━━━━━\u001b[0m \u001b[32m1.1/1.1 GB\u001b[0m \u001b[31m884.3 kB/s\u001b[0m eta \u001b[36m0:00:00\u001b[0m\r\n",
      "\u001b[?25hCollecting cugraph-cu12==24.2.*\r\n",
      "  Downloading https://pypi.nvidia.com/cugraph-cu12/cugraph_cu12-24.2.0-cp310-cp310-manylinux_2_17_x86_64.manylinux2014_x86_64.whl (1311.2 MB)\r\n",
      "\u001b[2K     \u001b[90m━━━━━━━━━━━━━━━━━━━━━━━━━━━━━━━━━━━━━━━━\u001b[0m \u001b[32m1.3/1.3 GB\u001b[0m \u001b[31m757.5 kB/s\u001b[0m eta \u001b[36m0:00:00\u001b[0m\r\n",
      "\u001b[?25hRequirement already satisfied: cachetools in /opt/conda/lib/python3.10/site-packages (from cudf-cu12==24.2.*) (4.2.4)\r\n",
      "Requirement already satisfied: cuda-python<13.0a0,>=12.0 in /opt/conda/lib/python3.10/site-packages (from cudf-cu12==24.2.*) (12.4.0)\r\n",
      "Collecting cupy-cuda12x>=12.0.0 (from cudf-cu12==24.2.*)\r\n",
      "  Downloading cupy_cuda12x-13.0.0-cp310-cp310-manylinux2014_x86_64.whl.metadata (2.6 kB)\r\n",
      "Requirement already satisfied: fsspec>=0.6.0 in /opt/conda/lib/python3.10/site-packages (from cudf-cu12==24.2.*) (2024.3.0)\r\n",
      "Requirement already satisfied: numba>=0.57 in /opt/conda/lib/python3.10/site-packages (from cudf-cu12==24.2.*) (0.58.1)\r\n",
      "Collecting numpy<1.25,>=1.21 (from cudf-cu12==24.2.*)\r\n",
      "  Downloading numpy-1.24.4-cp310-cp310-manylinux_2_17_x86_64.manylinux2014_x86_64.whl.metadata (5.6 kB)\r\n",
      "Requirement already satisfied: nvtx>=0.2.1 in /opt/conda/lib/python3.10/site-packages (from cudf-cu12==24.2.*) (0.2.10)\r\n",
      "Requirement already satisfied: packaging in /opt/conda/lib/python3.10/site-packages (from cudf-cu12==24.2.*) (21.3)\r\n",
      "Collecting pandas<1.6.0dev0,>=1.3 (from cudf-cu12==24.2.*)\r\n",
      "  Downloading pandas-1.5.3-cp310-cp310-manylinux_2_17_x86_64.manylinux2014_x86_64.whl.metadata (11 kB)\r\n",
      "Collecting protobuf<5,>=4.21 (from cudf-cu12==24.2.*)\r\n",
      "  Downloading protobuf-4.25.3-cp37-abi3-manylinux2014_x86_64.whl.metadata (541 bytes)\r\n",
      "Collecting pynvjitlink-cu12 (from cudf-cu12==24.2.*)\r\n",
      "  Downloading https://pypi.nvidia.com/pynvjitlink-cu12/pynvjitlink_cu12-0.1.14-cp310-cp310-manylinux_2_17_x86_64.whl (24.0 MB)\r\n",
      "\u001b[2K     \u001b[90m━━━━━━━━━━━━━━━━━━━━━━━━━━━━━━━━━━━━━━━━\u001b[0m \u001b[32m24.0/24.0 MB\u001b[0m \u001b[31m73.2 MB/s\u001b[0m eta \u001b[36m0:00:00\u001b[0m\r\n",
      "\u001b[?25hCollecting pyarrow<15.0.0a0,>=14.0.1 (from cudf-cu12==24.2.*)\r\n",
      "  Downloading pyarrow-14.0.2-cp310-cp310-manylinux_2_28_x86_64.whl.metadata (3.0 kB)\r\n",
      "Requirement already satisfied: rich in /opt/conda/lib/python3.10/site-packages (from cudf-cu12==24.2.*) (13.7.0)\r\n",
      "Collecting rmm-cu12==24.2.* (from cudf-cu12==24.2.*)\r\n",
      "  Downloading https://pypi.nvidia.com/rmm-cu12/rmm_cu12-24.2.0-cp310-cp310-manylinux_2_17_x86_64.manylinux2014_x86_64.whl (1.7 MB)\r\n",
      "\u001b[2K     \u001b[90m━━━━━━━━━━━━━━━━━━━━━━━━━━━━━━━━━━━━━━━━\u001b[0m \u001b[32m1.7/1.7 MB\u001b[0m \u001b[31m62.2 MB/s\u001b[0m eta \u001b[36m0:00:00\u001b[0m\r\n",
      "\u001b[?25hRequirement already satisfied: typing_extensions>=4.0.0 in /opt/conda/lib/python3.10/site-packages (from cudf-cu12==24.2.*) (4.9.0)\r\n",
      "Collecting rapids-dask-dependency==24.2.* (from dask-cudf-cu12==24.2.*)\r\n",
      "  Downloading https://pypi.nvidia.com/rapids-dask-dependency/rapids_dask_dependency-24.2.0-py3-none-any.whl (6.4 kB)\r\n",
      "Collecting dask-cuda==24.2.* (from cuml-cu12==24.2.*)\r\n",
      "  Downloading dask_cuda-24.2.0-py3-none-any.whl.metadata (2.5 kB)\r\n",
      "Requirement already satisfied: joblib>=0.11 in /opt/conda/lib/python3.10/site-packages (from cuml-cu12==24.2.*) (1.3.2)\r\n",
      "Collecting pylibraft-cu12==24.2.* (from cuml-cu12==24.2.*)\r\n",
      "  Downloading https://pypi.nvidia.com/pylibraft-cu12/pylibraft_cu12-24.2.0-cp310-cp310-manylinux_2_17_x86_64.manylinux2014_x86_64.whl (647.0 MB)\r\n",
      "\u001b[2K     \u001b[90m━━━━━━━━━━━━━━━━━━━━━━━━━━━━━━━━━━━━━━━\u001b[0m \u001b[32m647.0/647.0 MB\u001b[0m \u001b[31m2.3 MB/s\u001b[0m eta \u001b[36m0:00:00\u001b[0m\r\n",
      "\u001b[?25hCollecting raft-dask-cu12==24.2.* (from cuml-cu12==24.2.*)\r\n",
      "  Downloading https://pypi.nvidia.com/raft-dask-cu12/raft_dask_cu12-24.2.0-cp310-cp310-manylinux_2_17_x86_64.manylinux2014_x86_64.whl (162.9 MB)\r\n",
      "\u001b[2K     \u001b[90m━━━━━━━━━━━━━━━━━━━━━━━━━━━━━━━━━━━━━━━\u001b[0m \u001b[32m162.9/162.9 MB\u001b[0m \u001b[31m7.7 MB/s\u001b[0m eta \u001b[36m0:00:00\u001b[0m\r\n",
      "\u001b[?25hRequirement already satisfied: scipy>=1.8.0 in /opt/conda/lib/python3.10/site-packages (from cuml-cu12==24.2.*) (1.11.4)\r\n",
      "Collecting treelite==4.0.0 (from cuml-cu12==24.2.*)\r\n",
      "  Downloading treelite-4.0.0-py3-none-manylinux2014_x86_64.whl.metadata (1.5 kB)\r\n",
      "Collecting pylibcugraph-cu12==24.2.* (from cugraph-cu12==24.2.*)\r\n",
      "  Downloading https://pypi.nvidia.com/pylibcugraph-cu12/pylibcugraph_cu12-24.2.0-cp310-cp310-manylinux_2_17_x86_64.manylinux2014_x86_64.whl (1312.2 MB)\r\n",
      "\u001b[2K     \u001b[90m━━━━━━━━━━━━━━━━━━━━━━━━━━━━━━━━━━━━━━━━\u001b[0m \u001b[32m1.3/1.3 GB\u001b[0m \u001b[31m833.8 kB/s\u001b[0m eta \u001b[36m0:00:00\u001b[0m\r\n",
      "\u001b[?25hCollecting ucx-py-cu12==0.36.* (from cugraph-cu12==24.2.*)\r\n",
      "  Downloading https://pypi.nvidia.com/ucx-py-cu12/ucx_py_cu12-0.36.0-cp310-cp310-manylinux_2_17_x86_64.manylinux2014_x86_64.whl (7.7 MB)\r\n",
      "\u001b[2K     \u001b[90m━━━━━━━━━━━━━━━━━━━━━━━━━━━━━━━━━━━━━━━━\u001b[0m \u001b[32m7.7/7.7 MB\u001b[0m \u001b[31m94.0 MB/s\u001b[0m eta \u001b[36m0:00:00\u001b[0m\r\n",
      "\u001b[?25hRequirement already satisfied: click>=8.1 in /opt/conda/lib/python3.10/site-packages (from dask-cuda==24.2.*->cuml-cu12==24.2.*) (8.1.7)\r\n",
      "Requirement already satisfied: pynvml<11.5,>=11.0.0 in /opt/conda/lib/python3.10/site-packages (from dask-cuda==24.2.*->cuml-cu12==24.2.*) (11.4.1)\r\n",
      "Requirement already satisfied: zict>=2.0.0 in /opt/conda/lib/python3.10/site-packages (from dask-cuda==24.2.*->cuml-cu12==24.2.*) (3.0.0)\r\n",
      "Collecting dask==2024.1.1 (from rapids-dask-dependency==24.2.*->dask-cudf-cu12==24.2.*)\r\n",
      "  Downloading dask-2024.1.1-py3-none-any.whl.metadata (3.7 kB)\r\n",
      "Collecting distributed==2024.1.1 (from rapids-dask-dependency==24.2.*->dask-cudf-cu12==24.2.*)\r\n",
      "  Downloading distributed-2024.1.1-py3-none-any.whl.metadata (3.4 kB)\r\n",
      "Requirement already satisfied: cloudpickle>=1.5.0 in /opt/conda/lib/python3.10/site-packages (from dask==2024.1.1->rapids-dask-dependency==24.2.*->dask-cudf-cu12==24.2.*) (2.2.1)\r\n",
      "Requirement already satisfied: partd>=1.2.0 in /opt/conda/lib/python3.10/site-packages (from dask==2024.1.1->rapids-dask-dependency==24.2.*->dask-cudf-cu12==24.2.*) (1.4.1)\r\n",
      "Requirement already satisfied: pyyaml>=5.3.1 in /opt/conda/lib/python3.10/site-packages (from dask==2024.1.1->rapids-dask-dependency==24.2.*->dask-cudf-cu12==24.2.*) (6.0.1)\r\n",
      "Requirement already satisfied: toolz>=0.10.0 in /opt/conda/lib/python3.10/site-packages (from dask==2024.1.1->rapids-dask-dependency==24.2.*->dask-cudf-cu12==24.2.*) (0.12.1)\r\n",
      "Requirement already satisfied: importlib-metadata>=4.13.0 in /opt/conda/lib/python3.10/site-packages (from dask==2024.1.1->rapids-dask-dependency==24.2.*->dask-cudf-cu12==24.2.*) (6.11.0)\r\n",
      "Requirement already satisfied: jinja2>=2.10.3 in /opt/conda/lib/python3.10/site-packages (from distributed==2024.1.1->rapids-dask-dependency==24.2.*->dask-cudf-cu12==24.2.*) (3.1.2)\r\n",
      "Requirement already satisfied: locket>=1.0.0 in /opt/conda/lib/python3.10/site-packages (from distributed==2024.1.1->rapids-dask-dependency==24.2.*->dask-cudf-cu12==24.2.*) (1.0.0)\r\n",
      "Requirement already satisfied: msgpack>=1.0.0 in /opt/conda/lib/python3.10/site-packages (from distributed==2024.1.1->rapids-dask-dependency==24.2.*->dask-cudf-cu12==24.2.*) (1.0.7)\r\n",
      "Requirement already satisfied: psutil>=5.7.2 in /opt/conda/lib/python3.10/site-packages (from distributed==2024.1.1->rapids-dask-dependency==24.2.*->dask-cudf-cu12==24.2.*) (5.9.3)\r\n",
      "Requirement already satisfied: sortedcontainers>=2.0.5 in /opt/conda/lib/python3.10/site-packages (from distributed==2024.1.1->rapids-dask-dependency==24.2.*->dask-cudf-cu12==24.2.*) (2.4.0)\r\n",
      "Requirement already satisfied: tblib>=1.6.0 in /opt/conda/lib/python3.10/site-packages (from distributed==2024.1.1->rapids-dask-dependency==24.2.*->dask-cudf-cu12==24.2.*) (3.0.0)\r\n",
      "Requirement already satisfied: tornado>=6.0.4 in /opt/conda/lib/python3.10/site-packages (from distributed==2024.1.1->rapids-dask-dependency==24.2.*->dask-cudf-cu12==24.2.*) (6.3.3)\r\n",
      "Requirement already satisfied: urllib3>=1.24.3 in /opt/conda/lib/python3.10/site-packages (from distributed==2024.1.1->rapids-dask-dependency==24.2.*->dask-cudf-cu12==24.2.*) (1.26.18)\r\n",
      "Requirement already satisfied: fastrlock>=0.5 in /opt/conda/lib/python3.10/site-packages (from cupy-cuda12x>=12.0.0->cudf-cu12==24.2.*) (0.8.2)\r\n",
      "Requirement already satisfied: aiohttp!=4.0.0a0,!=4.0.0a1 in /opt/conda/lib/python3.10/site-packages (from fsspec[http]>=0.6.0->cugraph-cu12==24.2.*) (3.9.1)\r\n",
      "Requirement already satisfied: llvmlite<0.42,>=0.41.0dev0 in /opt/conda/lib/python3.10/site-packages (from numba>=0.57->cudf-cu12==24.2.*) (0.41.1)\r\n",
      "Requirement already satisfied: pyparsing!=3.0.5,>=2.0.2 in /opt/conda/lib/python3.10/site-packages (from packaging->cudf-cu12==24.2.*) (3.1.1)\r\n",
      "Requirement already satisfied: python-dateutil>=2.8.1 in /opt/conda/lib/python3.10/site-packages (from pandas<1.6.0dev0,>=1.3->cudf-cu12==24.2.*) (2.9.0.post0)\r\n",
      "Requirement already satisfied: pytz>=2020.1 in /opt/conda/lib/python3.10/site-packages (from pandas<1.6.0dev0,>=1.3->cudf-cu12==24.2.*) (2023.3.post1)\r\n",
      "Requirement already satisfied: markdown-it-py>=2.2.0 in /opt/conda/lib/python3.10/site-packages (from rich->cudf-cu12==24.2.*) (3.0.0)\r\n",
      "Requirement already satisfied: pygments<3.0.0,>=2.13.0 in /opt/conda/lib/python3.10/site-packages (from rich->cudf-cu12==24.2.*) (2.17.2)\r\n",
      "Requirement already satisfied: attrs>=17.3.0 in /opt/conda/lib/python3.10/site-packages (from aiohttp!=4.0.0a0,!=4.0.0a1->fsspec[http]>=0.6.0->cugraph-cu12==24.2.*) (23.2.0)\r\n",
      "Requirement already satisfied: multidict<7.0,>=4.5 in /opt/conda/lib/python3.10/site-packages (from aiohttp!=4.0.0a0,!=4.0.0a1->fsspec[http]>=0.6.0->cugraph-cu12==24.2.*) (6.0.4)\r\n",
      "Requirement already satisfied: yarl<2.0,>=1.0 in /opt/conda/lib/python3.10/site-packages (from aiohttp!=4.0.0a0,!=4.0.0a1->fsspec[http]>=0.6.0->cugraph-cu12==24.2.*) (1.9.3)\r\n",
      "Requirement already satisfied: frozenlist>=1.1.1 in /opt/conda/lib/python3.10/site-packages (from aiohttp!=4.0.0a0,!=4.0.0a1->fsspec[http]>=0.6.0->cugraph-cu12==24.2.*) (1.4.1)\r\n",
      "Requirement already satisfied: aiosignal>=1.1.2 in /opt/conda/lib/python3.10/site-packages (from aiohttp!=4.0.0a0,!=4.0.0a1->fsspec[http]>=0.6.0->cugraph-cu12==24.2.*) (1.3.1)\r\n",
      "Requirement already satisfied: async-timeout<5.0,>=4.0 in /opt/conda/lib/python3.10/site-packages (from aiohttp!=4.0.0a0,!=4.0.0a1->fsspec[http]>=0.6.0->cugraph-cu12==24.2.*) (4.0.3)\r\n",
      "Requirement already satisfied: mdurl~=0.1 in /opt/conda/lib/python3.10/site-packages (from markdown-it-py>=2.2.0->rich->cudf-cu12==24.2.*) (0.1.2)\r\n",
      "Requirement already satisfied: six>=1.5 in /opt/conda/lib/python3.10/site-packages (from python-dateutil>=2.8.1->pandas<1.6.0dev0,>=1.3->cudf-cu12==24.2.*) (1.16.0)\r\n",
      "Requirement already satisfied: zipp>=0.5 in /opt/conda/lib/python3.10/site-packages (from importlib-metadata>=4.13.0->dask==2024.1.1->rapids-dask-dependency==24.2.*->dask-cudf-cu12==24.2.*) (3.17.0)\r\n",
      "Requirement already satisfied: MarkupSafe>=2.0 in /opt/conda/lib/python3.10/site-packages (from jinja2>=2.10.3->distributed==2024.1.1->rapids-dask-dependency==24.2.*->dask-cudf-cu12==24.2.*) (2.1.3)\r\n",
      "Requirement already satisfied: idna>=2.0 in /opt/conda/lib/python3.10/site-packages (from yarl<2.0,>=1.0->aiohttp!=4.0.0a0,!=4.0.0a1->fsspec[http]>=0.6.0->cugraph-cu12==24.2.*) (3.6)\r\n",
      "Downloading dask_cuda-24.2.0-py3-none-any.whl (126 kB)\r\n",
      "\u001b[2K   \u001b[90m━━━━━━━━━━━━━━━━━━━━━━━━━━━━━━━━━━━━━━━━\u001b[0m \u001b[32m126.5/126.5 kB\u001b[0m \u001b[31m40.7 kB/s\u001b[0m eta \u001b[36m0:00:00\u001b[0m\r\n",
      "\u001b[?25hDownloading treelite-4.0.0-py3-none-manylinux2014_x86_64.whl (758 kB)\r\n",
      "\u001b[2K   \u001b[90m━━━━━━━━━━━━━━━━━━━━━━━━━━━━━━━━━━━━━━━━\u001b[0m \u001b[32m758.7/758.7 kB\u001b[0m \u001b[31m32.7 MB/s\u001b[0m eta \u001b[36m0:00:00\u001b[0m\r\n",
      "\u001b[?25hDownloading dask-2024.1.1-py3-none-any.whl (1.2 MB)\r\n",
      "\u001b[2K   \u001b[90m━━━━━━━━━━━━━━━━━━━━━━━━━━━━━━━━━━━━━━━━\u001b[0m \u001b[32m1.2/1.2 MB\u001b[0m \u001b[31m50.8 MB/s\u001b[0m eta \u001b[36m0:00:00\u001b[0m\r\n",
      "\u001b[?25hDownloading distributed-2024.1.1-py3-none-any.whl (1.0 MB)\r\n",
      "\u001b[2K   \u001b[90m━━━━━━━━━━━━━━━━━━━━━━━━━━━━━━━━━━━━━━━━\u001b[0m \u001b[32m1.0/1.0 MB\u001b[0m \u001b[31m45.3 MB/s\u001b[0m eta \u001b[36m0:00:00\u001b[0m\r\n",
      "\u001b[?25hDownloading cupy_cuda12x-13.0.0-cp310-cp310-manylinux2014_x86_64.whl (88.3 MB)\r\n",
      "\u001b[2K   \u001b[90m━━━━━━━━━━━━━━━━━━━━━━━━━━━━━━━━━━━━━━━━\u001b[0m \u001b[32m88.3/88.3 MB\u001b[0m \u001b[31m18.9 MB/s\u001b[0m eta \u001b[36m0:00:00\u001b[0m\r\n",
      "\u001b[?25hDownloading numpy-1.24.4-cp310-cp310-manylinux_2_17_x86_64.manylinux2014_x86_64.whl (17.3 MB)\r\n",
      "\u001b[2K   \u001b[90m━━━━━━━━━━━━━━━━━━━━━━━━━━━━━━━━━━━━━━━━\u001b[0m \u001b[32m17.3/17.3 MB\u001b[0m \u001b[31m85.6 MB/s\u001b[0m eta \u001b[36m0:00:00\u001b[0m\r\n",
      "\u001b[?25hDownloading pandas-1.5.3-cp310-cp310-manylinux_2_17_x86_64.manylinux2014_x86_64.whl (12.1 MB)\r\n",
      "\u001b[2K   \u001b[90m━━━━━━━━━━━━━━━━━━━━━━━━━━━━━━━━━━━━━━━━\u001b[0m \u001b[32m12.1/12.1 MB\u001b[0m \u001b[31m97.3 MB/s\u001b[0m eta \u001b[36m0:00:00\u001b[0m\r\n",
      "\u001b[?25hDownloading protobuf-4.25.3-cp37-abi3-manylinux2014_x86_64.whl (294 kB)\r\n",
      "\u001b[2K   \u001b[90m━━━━━━━━━━━━━━━━━━━━━━━━━━━━━━━━━━━━━━━━\u001b[0m \u001b[32m294.6/294.6 kB\u001b[0m \u001b[31m18.9 MB/s\u001b[0m eta \u001b[36m0:00:00\u001b[0m\r\n",
      "\u001b[?25hDownloading pyarrow-14.0.2-cp310-cp310-manylinux_2_28_x86_64.whl (38.0 MB)\r\n",
      "\u001b[2K   \u001b[90m━━━━━━━━━━━━━━━━━━━━━━━━━━━━━━━━━━━━━━━━\u001b[0m \u001b[32m38.0/38.0 MB\u001b[0m \u001b[31m45.2 MB/s\u001b[0m eta \u001b[36m0:00:00\u001b[0m\r\n",
      "\u001b[?25hInstalling collected packages: pynvjitlink-cu12, protobuf, numpy, ucx-py-cu12, pyarrow, pandas, dask, cupy-cuda12x, treelite, rmm-cu12, distributed, rapids-dask-dependency, pylibraft-cu12, cudf-cu12, pylibcugraph-cu12, dask-cudf-cu12, dask-cuda, raft-dask-cu12, cuml-cu12, cugraph-cu12\r\n",
      "  Attempting uninstall: protobuf\r\n",
      "    Found existing installation: protobuf 3.20.3\r\n",
      "    Uninstalling protobuf-3.20.3:\r\n",
      "      Successfully uninstalled protobuf-3.20.3\r\n",
      "  Attempting uninstall: numpy\r\n",
      "    Found existing installation: numpy 1.26.4\r\n",
      "    Uninstalling numpy-1.26.4:\r\n",
      "      Successfully uninstalled numpy-1.26.4\r\n",
      "  Attempting uninstall: pyarrow\r\n",
      "    Found existing installation: pyarrow 11.0.0\r\n",
      "    Uninstalling pyarrow-11.0.0:\r\n",
      "      Successfully uninstalled pyarrow-11.0.0\r\n",
      "  Attempting uninstall: pandas\r\n",
      "    Found existing installation: pandas 2.1.4\r\n",
      "    Uninstalling pandas-2.1.4:\r\n",
      "      Successfully uninstalled pandas-2.1.4\r\n",
      "  Attempting uninstall: treelite\r\n",
      "    Found existing installation: treelite 3.2.0\r\n",
      "    Uninstalling treelite-3.2.0:\r\n",
      "      Successfully uninstalled treelite-3.2.0\r\n",
      "  Attempting uninstall: distributed\r\n",
      "    Found existing installation: distributed 2023.7.1\r\n",
      "    Uninstalling distributed-2023.7.1:\r\n",
      "      Successfully uninstalled distributed-2023.7.1\r\n",
      "\u001b[31mERROR: pip's dependency resolver does not currently take into account all the packages that are installed. This behaviour is the source of the following dependency conflicts.\r\n",
      "keras-nlp 0.8.2 requires keras-core, which is not installed.\r\n",
      "tensorflow-decision-forests 1.8.1 requires wurlitzer, which is not installed.\r\n",
      "apache-beam 2.46.0 requires dill<0.3.2,>=0.3.1.1, but you have dill 0.3.8 which is incompatible.\r\n",
      "apache-beam 2.46.0 requires protobuf<4,>3.12.2, but you have protobuf 4.25.3 which is incompatible.\r\n",
      "apache-beam 2.46.0 requires pyarrow<10.0.0,>=3.0.0, but you have pyarrow 14.0.2 which is incompatible.\r\n",
      "beatrix-jupyterlab 2023.128.151533 requires jupyterlab~=3.6.0, but you have jupyterlab 4.1.5 which is incompatible.\r\n",
      "featuretools 1.30.0 requires numpy>=1.25.0, but you have numpy 1.24.4 which is incompatible.\r\n",
      "featuretools 1.30.0 requires pandas>=2.0.0, but you have pandas 1.5.3 which is incompatible.\r\n",
      "google-cloud-aiplatform 0.6.0a1 requires google-api-core[grpc]<2.0.0dev,>=1.22.2, but you have google-api-core 2.11.1 which is incompatible.\r\n",
      "google-cloud-automl 1.0.1 requires google-api-core[grpc]<2.0.0dev,>=1.14.0, but you have google-api-core 2.11.1 which is incompatible.\r\n",
      "google-cloud-bigquery 2.34.4 requires protobuf<4.0.0dev,>=3.12.0, but you have protobuf 4.25.3 which is incompatible.\r\n",
      "google-cloud-bigtable 1.7.3 requires protobuf<4.0.0dev, but you have protobuf 4.25.3 which is incompatible.\r\n",
      "google-cloud-pubsub 2.19.0 requires grpcio<2.0dev,>=1.51.3, but you have grpcio 1.51.1 which is incompatible.\r\n",
      "google-cloud-vision 2.8.0 requires protobuf<4.0.0dev,>=3.19.0, but you have protobuf 4.25.3 which is incompatible.\r\n",
      "kfp 2.5.0 requires google-cloud-storage<3,>=2.2.1, but you have google-cloud-storage 1.44.0 which is incompatible.\r\n",
      "kfp 2.5.0 requires protobuf<4,>=3.13.0, but you have protobuf 4.25.3 which is incompatible.\r\n",
      "kfp-pipeline-spec 0.2.2 requires protobuf<4,>=3.13.0, but you have protobuf 4.25.3 which is incompatible.\r\n",
      "libpysal 4.9.2 requires packaging>=22, but you have packaging 21.3 which is incompatible.\r\n",
      "libpysal 4.9.2 requires shapely>=2.0.1, but you have shapely 1.8.5.post1 which is incompatible.\r\n",
      "mizani 0.11.0 requires pandas>=2.1.0, but you have pandas 1.5.3 which is incompatible.\r\n",
      "momepy 0.7.0 requires shapely>=2, but you have shapely 1.8.5.post1 which is incompatible.\r\n",
      "osmnx 1.9.1 requires shapely>=2.0, but you have shapely 1.8.5.post1 which is incompatible.\r\n",
      "plotnine 0.13.2 requires pandas<3.0.0,>=2.1.0, but you have pandas 1.5.3 which is incompatible.\r\n",
      "pyldavis 3.4.1 requires pandas>=2.0.0, but you have pandas 1.5.3 which is incompatible.\r\n",
      "spopt 0.6.0 requires shapely>=2.0.1, but you have shapely 1.8.5.post1 which is incompatible.\r\n",
      "tensorboard 2.15.1 requires protobuf<4.24,>=3.19.6, but you have protobuf 4.25.3 which is incompatible.\r\n",
      "tensorflow 2.15.0 requires keras<2.16,>=2.15.0, but you have keras 3.0.5 which is incompatible.\r\n",
      "tensorflow-metadata 0.14.0 requires protobuf<4,>=3.7, but you have protobuf 4.25.3 which is incompatible.\r\n",
      "tensorflow-transform 0.14.0 requires protobuf<4,>=3.7, but you have protobuf 4.25.3 which is incompatible.\r\n",
      "tensorstore 0.1.56 requires ml-dtypes>=0.3.1, but you have ml-dtypes 0.2.0 which is incompatible.\r\n",
      "woodwork 0.29.0 requires numpy>=1.25.0, but you have numpy 1.24.4 which is incompatible.\r\n",
      "xarray 2024.2.0 requires packaging>=22, but you have packaging 21.3 which is incompatible.\u001b[0m\u001b[31m\r\n",
      "\u001b[0mSuccessfully installed cudf-cu12-24.2.2 cugraph-cu12-24.2.0 cuml-cu12-24.2.0 cupy-cuda12x-13.0.0 dask-2024.1.1 dask-cuda-24.2.0 dask-cudf-cu12-24.2.2 distributed-2024.1.1 numpy-1.24.4 pandas-1.5.3 protobuf-4.21.12 pyarrow-14.0.2 pylibcugraph-cu12-24.2.0 pylibraft-cu12-24.2.0 pynvjitlink-cu12-0.1.14 raft-dask-cu12-24.2.0 rapids-dask-dependency-24.2.0 rmm-cu12-24.2.0 treelite-4.0.0 ucx-py-cu12-0.36.0\r\n"
     ]
    }
   ],
   "source": [
    "# Remove all conda packages\n",
    "!find /opt/conda \\( -name \"cudf*\" -o -name \"libcudf*\" -o -name \"cuml*\" -o -name \"libcuml*\" \\\n",
    "                   -o -name \"cugraph*\" -o -name \"libcugraph*\" -o -name \"raft*\" -o -name \"libraft*\" \\\n",
    "                   -o -name \"pylibraft*\" -o -name \"libkvikio*\" -o -name \"*dask*\" -o -name \"rmm*\"\\\n",
    "                   -o -name \"librmm*\" \\) -exec rm -rf {} \\; 2>/dev/null\n",
    "\n",
    "# pip uninstall, just incase there are packages lying around\n",
    "!pip uninstall cudf cuml dask-cudf cuml cugraph cupy cupy-cuda12x --y\n",
    "\n",
    "\n",
    "!pip install \\\n",
    "    --extra-index-url=https://pypi.nvidia.com \\\n",
    "    cudf-cu12==24.2.* \\\n",
    "    dask-cudf-cu12==24.2.* \\\n",
    "    cuml-cu12==24.2.* \\\n",
    "    cugraph-cu12==24.2.*\n",
    "\n"
   ]
  },
  {
   "cell_type": "code",
   "execution_count": 3,
   "id": "773dedb0",
   "metadata": {
    "execution": {
     "iopub.execute_input": "2024-03-22T15:47:23.701108Z",
     "iopub.status.busy": "2024-03-22T15:47:23.700215Z",
     "iopub.status.idle": "2024-03-22T15:47:27.470063Z",
     "shell.execute_reply": "2024-03-22T15:47:27.469251Z"
    },
    "papermill": {
     "duration": 3.909679,
     "end_time": "2024-03-22T15:47:27.472410",
     "exception": false,
     "start_time": "2024-03-22T15:47:23.562731",
     "status": "completed"
    },
    "tags": []
   },
   "outputs": [],
   "source": [
    "import cudf"
   ]
  },
  {
   "cell_type": "code",
   "execution_count": 6,
   "id": "0b4ffe58",
   "metadata": {
    "execution": {
     "iopub.execute_input": "2024-03-22T15:48:00.634275Z",
     "iopub.status.busy": "2024-03-22T15:48:00.633913Z",
     "iopub.status.idle": "2024-03-22T15:48:00.652452Z",
     "shell.execute_reply": "2024-03-22T15:48:00.651560Z"
    },
    "papermill": {
     "duration": 0.163307,
     "end_time": "2024-03-22T15:48:00.654470",
     "exception": false,
     "start_time": "2024-03-22T15:48:00.491163",
     "status": "completed"
    },
    "tags": []
   },
   "outputs": [],
   "source": []
  },
  {
   "cell_type": "code",
   "execution_count": null,
   "id": "f3d97a57",
   "metadata": {},
   "outputs": [],
   "source": [
    "from typing import Any\n",
    "from datetime import datetime\n",
    "import narwhals as nw\n",
    "\n",
    "def q1(df_raw: Any) -> Any:\n",
    "    var_1 = datetime(1998, 9, 2)\n",
    "    df = nw.from_native(df_raw)\n",
    "    result = (\n",
    "        df.filter(nw.col(\"l_shipdate\") <= var_1)\n",
    "        .with_columns(\n",
    "            disc_price=nw.col(\"l_extendedprice\") * (1 - nw.col(\"l_discount\")),\n",
    "            charge=(\n",
    "                nw.col(\"l_extendedprice\")\n",
    "                * (1.0 - nw.col(\"l_discount\"))\n",
    "                * (1.0 + nw.col(\"l_tax\"))\n",
    "            ),\n",
    "        )\n",
    "        .group_by([\"l_returnflag\", \"l_linestatus\"])\n",
    "        .agg(\n",
    "            [\n",
    "                nw.sum(\"l_quantity\").alias(\"sum_qty\"),\n",
    "                nw.sum(\"l_extendedprice\").alias(\"sum_base_price\"),\n",
    "                nw.sum(\"disc_price\").alias(\"sum_disc_price\"),\n",
    "                nw.col(\"charge\").sum().alias(\"sum_charge\"),\n",
    "                nw.mean(\"l_quantity\").alias(\"avg_qty\"),\n",
    "                nw.mean(\"l_extendedprice\").alias(\"avg_price\"),\n",
    "                nw.mean(\"l_discount\").alias(\"avg_disc\"),\n",
    "                nw.len().alias(\"count_order\"),\n",
    "            ],\n",
    "        )\n",
    "        .sort([\"l_returnflag\", \"l_linestatus\"])\n",
    "    )\n",
    "    return nw.to_native(result)"
   ]
  },
  {
   "cell_type": "code",
   "execution_count": null,
   "id": "7a14b66c",
   "metadata": {},
   "outputs": [],
   "source": [
    "\n",
    "\n",
    "from typing import Any\n",
    "from datetime import datetime\n",
    "import narwhals as nw\n",
    "\n",
    "def q2(\n",
    "    region_ds_raw: Any,\n",
    "    nation_ds_raw: Any,\n",
    "    supplier_ds_raw: Any,\n",
    "    part_ds_raw: Any,\n",
    "    part_supp_ds_raw: Any,\n",
    ") -> Any:\n",
    "    var_1 = 15\n",
    "    var_2 = \"BRASS\"\n",
    "    var_3 = \"EUROPE\"\n",
    "\n",
    "    region_ds = nw.from_native(region_ds_raw)\n",
    "    nation_ds = nw.from_native(nation_ds_raw)\n",
    "    supplier_ds = nw.from_native(supplier_ds_raw)\n",
    "    part_ds = nw.from_native(part_ds_raw)\n",
    "    part_supp_ds = nw.from_native(part_supp_ds_raw)\n",
    "\n",
    "    result_q2 = (\n",
    "        part_ds.join(part_supp_ds, left_on=\"p_partkey\", right_on=\"ps_partkey\")\n",
    "        .join(supplier_ds, left_on=\"ps_suppkey\", right_on=\"s_suppkey\")\n",
    "        .join(nation_ds, left_on=\"s_nationkey\", right_on=\"n_nationkey\")\n",
    "        .join(region_ds, left_on=\"n_regionkey\", right_on=\"r_regionkey\")\n",
    "        .filter(nw.col(\"p_size\") == var_1)\n",
    "        .filter(nw.col(\"p_type\").str.ends_with(var_2))\n",
    "        .filter(nw.col(\"r_name\") == var_3)\n",
    "    )\n",
    "\n",
    "    final_cols = [\n",
    "        \"s_acctbal\",\n",
    "        \"s_name\",\n",
    "        \"n_name\",\n",
    "        \"p_partkey\",\n",
    "        \"p_mfgr\",\n",
    "        \"s_address\",\n",
    "        \"s_phone\",\n",
    "        \"s_comment\",\n",
    "    ]\n",
    "\n",
    "    q_final = (\n",
    "        result_q2.group_by(\"p_partkey\")\n",
    "        .agg(nw.min(\"ps_supplycost\").alias(\"ps_supplycost\"))\n",
    "        .join(\n",
    "            result_q2,\n",
    "            left_on=[\"p_partkey\", \"ps_supplycost\"],\n",
    "            right_on=[\"p_partkey\", \"ps_supplycost\"],\n",
    "        )\n",
    "        .select(final_cols)\n",
    "        .sort(\n",
    "            by=[\"s_acctbal\", \"n_name\", \"s_name\", \"p_partkey\"],\n",
    "            descending=[True, False, False, False],\n",
    "        )\n",
    "        .head(100)\n",
    "    )\n",
    "\n",
    "    return nw.to_native(q_final)"
   ]
  },
  {
   "cell_type": "code",
   "execution_count": null,
   "id": "c75786a2",
   "metadata": {},
   "outputs": [],
   "source": [
    "from typing import Any\n",
    "from datetime import datetime\n",
    "import narwhals as nw\n",
    "\n",
    "def q3(\n",
    "    customer_ds_raw: Any,\n",
    "    line_item_ds_raw: Any,\n",
    "    orders_ds_raw: Any,\n",
    ") -> Any:\n",
    "    var_1 = var_2 = datetime(1995, 3, 15)\n",
    "    var_3 = \"BUILDING\"\n",
    "\n",
    "    customer_ds = nw.from_native(customer_ds_raw)\n",
    "    line_item_ds = nw.from_native(line_item_ds_raw)\n",
    "    orders_ds = nw.from_native(orders_ds_raw)\n",
    "\n",
    "    q_final = (\n",
    "        customer_ds.filter(nw.col(\"c_mktsegment\") == var_3)\n",
    "        .join(orders_ds, left_on=\"c_custkey\", right_on=\"o_custkey\")\n",
    "        .join(line_item_ds, left_on=\"o_orderkey\", right_on=\"l_orderkey\")\n",
    "        .filter(nw.col(\"o_orderdate\") < var_2)\n",
    "        .filter(nw.col(\"l_shipdate\") > var_1)\n",
    "        .with_columns(\n",
    "            (nw.col(\"l_extendedprice\") * (1 - nw.col(\"l_discount\"))).alias(\"revenue\")\n",
    "        )\n",
    "        .group_by([\"o_orderkey\", \"o_orderdate\", \"o_shippriority\"])\n",
    "        .agg([nw.sum(\"revenue\")])\n",
    "        .select(\n",
    "            [\n",
    "                nw.col(\"o_orderkey\").alias(\"l_orderkey\"),\n",
    "                \"revenue\",\n",
    "                \"o_orderdate\",\n",
    "                \"o_shippriority\",\n",
    "            ]\n",
    "        )\n",
    "        .sort(by=[\"revenue\", \"o_orderdate\"], descending=[True, False])\n",
    "        .head(10)\n",
    "    )\n",
    "\n",
    "    return nw.to_native(q_final)"
   ]
  },
  {
   "cell_type": "code",
   "execution_count": null,
   "id": "be2e914b",
   "metadata": {},
   "outputs": [],
   "source": [
    "\n",
    "\n",
    "from typing import Any\n",
    "from datetime import datetime\n",
    "import narwhals as nw\n",
    "\n",
    "def q4(\n",
    "    lineitem_ds_raw: Any,\n",
    "    orders_ds_raw: Any,\n",
    ") -> Any:\n",
    "    var_1 = datetime(1993, 7, 1)\n",
    "    var_2 = datetime(1993, 10, 1)\n",
    "\n",
    "    line_item_ds = nw.from_native(lineitem_ds_raw)\n",
    "    orders_ds = nw.from_native(orders_ds_raw)\n",
    "\n",
    "    result = (\n",
    "        line_item_ds.join(orders_ds, left_on=\"l_orderkey\", right_on=\"o_orderkey\")\n",
    "        .filter(nw.col(\"o_orderdate\").is_between(var_1, var_2, closed=\"left\"))\n",
    "        .filter(nw.col(\"l_commitdate\") < nw.col(\"l_receiptdate\"))\n",
    "        .unique(subset=[\"o_orderpriority\", \"l_orderkey\"])\n",
    "        .group_by(\"o_orderpriority\")\n",
    "        .agg(nw.len().alias(\"order_count\"))\n",
    "        .sort(by=\"o_orderpriority\")\n",
    "        .with_columns(nw.col(\"order_count\").cast(nw.Int64))\n",
    "    )\n",
    "\n",
    "    return nw.to_native(result)"
   ]
  },
  {
   "cell_type": "code",
   "execution_count": null,
   "id": "375eda53",
   "metadata": {},
   "outputs": [],
   "source": [
    "from typing import Any\n",
    "from datetime import datetime\n",
    "import narwhals as nw\n",
    "\n",
    "def q5(\n",
    "    region_ds_raw: Any,\n",
    "    nation_ds_raw: Any,\n",
    "    customer_ds_raw: Any,\n",
    "    lineitem_ds_raw: Any,\n",
    "    orders_ds_raw: Any,\n",
    "    supplier_ds_raw: Any,\n",
    ") -> Any:\n",
    "    var_1 = \"ASIA\"\n",
    "    var_2 = datetime(1994, 1, 1)\n",
    "    var_3 = datetime(1995, 1, 1)\n",
    "\n",
    "    region_ds = nw.from_native(region_ds_raw)\n",
    "    nation_ds = nw.from_native(nation_ds_raw)\n",
    "    customer_ds = nw.from_native(customer_ds_raw)\n",
    "    line_item_ds = nw.from_native(lineitem_ds_raw)\n",
    "    orders_ds = nw.from_native(orders_ds_raw)\n",
    "    supplier_ds = nw.from_native(supplier_ds_raw)\n",
    "\n",
    "    result = (\n",
    "        region_ds.join(nation_ds, left_on=\"r_regionkey\", right_on=\"n_regionkey\")\n",
    "        .join(customer_ds, left_on=\"n_nationkey\", right_on=\"c_nationkey\")\n",
    "        .join(orders_ds, left_on=\"c_custkey\", right_on=\"o_custkey\")\n",
    "        .join(line_item_ds, left_on=\"o_orderkey\", right_on=\"l_orderkey\")\n",
    "        .join(\n",
    "            supplier_ds,\n",
    "            left_on=[\"l_suppkey\", \"n_nationkey\"],\n",
    "            right_on=[\"s_suppkey\", \"s_nationkey\"],\n",
    "        )\n",
    "        .filter(\n",
    "            nw.col(\"r_name\") == var_1,\n",
    "            nw.col(\"o_orderdate\").is_between(var_2, var_3, closed=\"left\")\n",
    "        )\n",
    "        .with_columns(\n",
    "            (nw.col(\"l_extendedprice\") * (1 - nw.col(\"l_discount\"))).alias(\"revenue\")\n",
    "        )\n",
    "        .group_by(\"n_name\")\n",
    "        .agg([nw.sum(\"revenue\")])\n",
    "        .sort(by=\"revenue\", descending=True)\n",
    "    )\n",
    "\n",
    "    return nw.to_native(result)"
   ]
  },
  {
   "cell_type": "code",
   "execution_count": 7,
   "id": "52c152a8",
   "metadata": {
    "execution": {
     "iopub.execute_input": "2024-03-22T15:48:00.933887Z",
     "iopub.status.busy": "2024-03-22T15:48:00.933537Z",
     "iopub.status.idle": "2024-03-22T15:48:00.938595Z",
     "shell.execute_reply": "2024-03-22T15:48:00.937686Z"
    },
    "papermill": {
     "duration": 0.149307,
     "end_time": "2024-03-22T15:48:00.940546",
     "exception": false,
     "start_time": "2024-03-22T15:48:00.791239",
     "status": "completed"
    },
    "tags": []
   },
   "outputs": [],
   "source": [
    "dir_ = \"/kaggle/input/tpc-h-data-parquet-s-2/\"\n",
    "region = dir_ + 'region.parquet'\n",
    "nation = dir_ + 'nation.parquet'\n",
    "customer = dir_ + 'customer.parquet'\n",
    "lineitem = dir_ + 'lineitem.parquet'\n",
    "orders = dir_ + 'orders.parquet'\n",
    "supplier = dir_ + 'supplier.parquet'\n",
    "part = dir_ + 'part.parquet'\n",
    "partsupp = dir_ + 'partsupp.parquet'"
   ]
  },
  {
   "cell_type": "code",
   "execution_count": null,
   "id": "64abb323",
   "metadata": {},
   "outputs": [],
   "source": [
    "results = {}"
   ]
  },
  {
   "cell_type": "code",
   "execution_count": 8,
   "id": "699a0223",
   "metadata": {
    "execution": {
     "iopub.execute_input": "2024-03-22T15:48:01.221745Z",
     "iopub.status.busy": "2024-03-22T15:48:01.220809Z",
     "iopub.status.idle": "2024-03-22T15:50:03.836745Z",
     "shell.execute_reply": "2024-03-22T15:50:03.835873Z"
    },
    "papermill": {
     "duration": 122.901104,
     "end_time": "2024-03-22T15:50:03.983045",
     "exception": false,
     "start_time": "2024-03-22T15:48:01.081941",
     "status": "completed"
    },
    "tags": []
   },
   "outputs": [
    {
     "name": "stderr",
     "output_type": "stream",
     "text": [
      "get_mempolicy: Operation not permitted\n"
     ]
    },
    {
     "name": "stdout",
     "output_type": "stream",
     "text": [
      "1.33 s ± 32.4 ms per loop (mean ± std. dev. of 7 runs, 1 loop each)\n",
      "CPU times: user 1min 51s, sys: 9.29 s, total: 2min\n",
      "Wall time: 2min 2s\n"
     ]
    },
    {
     "data": {
      "text/plain": [
       "1.3054465180000534"
      ]
     },
     "execution_count": 8,
     "metadata": {},
     "output_type": "execute_result"
    }
   ],
   "source": [
    "import cudf\n",
    "fn = cudf.read_parquet\n",
    "timings = %timeit -o q1(fn(lineitem))\n",
    "results['q1'] = timings.best"
   ]
  },
  {
   "cell_type": "code",
   "execution_count": null,
   "id": "6865a691",
   "metadata": {},
   "outputs": [
    {
     "name": "stderr",
     "output_type": "stream",
     "text": [
      "get_mempolicy: Operation not permitted\n"
     ]
    },
    {
     "name": "stdout",
     "output_type": "stream",
     "text": [
      "1.33 s ± 32.4 ms per loop (mean ± std. dev. of 7 runs, 1 loop each)\n",
      "CPU times: user 1min 51s, sys: 9.29 s, total: 2min\n",
      "Wall time: 2min 2s\n"
     ]
    },
    {
     "data": {
      "text/plain": [
       "1.3054465180000534"
      ]
     },
     "metadata": {},
     "output_type": "display_data"
    }
   ],
   "source": [
    "import cudf\n",
    "fn = cudf.read_parquet\n",
    "timings = %timeit -o q2(fn(region), fn(nation), fn(supplier), fn(part), fn(partsupp)).collect()\n",
    "results['q2'] = timings.best"
   ]
  },
  {
   "cell_type": "code",
   "execution_count": null,
   "id": "f1db29d6",
   "metadata": {},
   "outputs": [
    {
     "name": "stderr",
     "output_type": "stream",
     "text": [
      "get_mempolicy: Operation not permitted\n"
     ]
    },
    {
     "name": "stdout",
     "output_type": "stream",
     "text": [
      "1.33 s ± 32.4 ms per loop (mean ± std. dev. of 7 runs, 1 loop each)\n",
      "CPU times: user 1min 51s, sys: 9.29 s, total: 2min\n",
      "Wall time: 2min 2s\n"
     ]
    },
    {
     "data": {
      "text/plain": [
       "1.3054465180000534"
      ]
     },
     "metadata": {},
     "output_type": "display_data"
    }
   ],
   "source": [
    "import cudf\n",
    "fn = cudf.read_parquet\n",
    "timings = %timeit -o q3(fn(customer), fn(lineitem), fn(orders)).collect()\n",
    "results['q3'] = timings.best"
   ]
  },
  {
   "cell_type": "code",
   "execution_count": null,
   "id": "0d7502c8",
   "metadata": {},
   "outputs": [
    {
     "name": "stderr",
     "output_type": "stream",
     "text": [
      "get_mempolicy: Operation not permitted\n"
     ]
    },
    {
     "name": "stdout",
     "output_type": "stream",
     "text": [
      "1.33 s ± 32.4 ms per loop (mean ± std. dev. of 7 runs, 1 loop each)\n",
      "CPU times: user 1min 51s, sys: 9.29 s, total: 2min\n",
      "Wall time: 2min 2s\n"
     ]
    },
    {
     "data": {
      "text/plain": [
       "1.3054465180000534"
      ]
     },
     "metadata": {},
     "output_type": "display_data"
    }
   ],
   "source": [
    "import cudf\n",
    "fn = cudf.read_parquet\n",
    "timings = %timeit -o q4(fn(lineitem), fn(orders)).collect()\n",
    "results['q4'] = timings.best"
   ]
  },
  {
   "cell_type": "code",
   "execution_count": null,
   "id": "412e860e",
   "metadata": {},
   "outputs": [
    {
     "name": "stderr",
     "output_type": "stream",
     "text": [
      "get_mempolicy: Operation not permitted\n"
     ]
    },
    {
     "name": "stdout",
     "output_type": "stream",
     "text": [
      "1.33 s ± 32.4 ms per loop (mean ± std. dev. of 7 runs, 1 loop each)\n",
      "CPU times: user 1min 51s, sys: 9.29 s, total: 2min\n",
      "Wall time: 2min 2s\n"
     ]
    },
    {
     "data": {
      "text/plain": [
       "1.3054465180000534"
      ]
     },
     "metadata": {},
     "output_type": "display_data"
    }
   ],
   "source": [
    "import cudf\n",
    "fn = cudf.read_parquet\n",
    "timings = %timeit -o q5(fn(region), fn(nation), fn(customer), fn(lineitem), fn(orders), fn(supplier))\n",
    "results['q5'] = timings.best"
   ]
  }
 ],
 "metadata": {
  "kaggle": {
   "accelerator": "nvidiaTeslaT4",
   "dataSources": [
    {
     "sourceId": 167796716,
     "sourceType": "kernelVersion"
    },
    {
     "sourceId": 167796934,
     "sourceType": "kernelVersion"
    }
   ],
   "isGpuEnabled": true,
   "isInternetEnabled": true,
   "language": "python",
   "sourceType": "notebook"
  },
  "kernelspec": {
   "display_name": "Python 3",
   "language": "python",
   "name": "python3"
  },
  "language_info": {
   "codemirror_mode": {
    "name": "ipython",
    "version": 3
   },
   "file_extension": ".py",
   "mimetype": "text/x-python",
   "name": "python",
   "nbconvert_exporter": "python",
   "pygments_lexer": "ipython3",
   "version": "3.10.13"
  },
  "papermill": {
   "default_parameters": {},
   "duration": 435.170825,
   "end_time": "2024-03-22T15:50:04.861661",
   "environment_variables": {},
   "exception": null,
   "input_path": "__notebook__.ipynb",
   "output_path": "__notebook__.ipynb",
   "parameters": {},
   "start_time": "2024-03-22T15:42:49.690836",
   "version": "2.5.0"
  }
 },
 "nbformat": 4,
 "nbformat_minor": 5
}
